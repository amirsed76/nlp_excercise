{
 "cells": [
  {
   "cell_type": "markdown",
   "metadata": {},
   "source": [
    "# STEP 1"
   ]
  },
  {
   "cell_type": "code",
   "execution_count": 1,
   "metadata": {},
   "outputs": [],
   "source": [
    "text_a = \"Natural language processing is fun! This text is a sample text .\""
   ]
  },
  {
   "cell_type": "code",
   "execution_count": 2,
   "metadata": {},
   "outputs": [],
   "source": [
    "text_b = \"Jensen Huang, the CEO of Nvidia, the nation’s most valuable semiconductor company, with a stock price of $645 a share and a market cap of $400 billion, is out to create the metaverse, what Huang describes “a virtual world that is a digital twin of ours.” Huang credits author Neal Stephenson’s Snow Crash, filled with collectives of shared 3-D spaces and virtually enhanced physical spaces that are extensions of the Internet, for conjuring the metaverse. This is already playing out with the massively popular online games like Fortnite and Minecraft, where users create richly imagined virtual worlds.\""
   ]
  },
  {
   "cell_type": "code",
   "execution_count": null,
   "metadata": {},
   "outputs": [],
   "source": []
  },
  {
   "cell_type": "markdown",
   "metadata": {},
   "source": [
    "# STEP 2 "
   ]
  },
  {
   "cell_type": "code",
   "execution_count": 3,
   "metadata": {},
   "outputs": [],
   "source": [
    "import nltk"
   ]
  },
  {
   "cell_type": "markdown",
   "metadata": {},
   "source": [
    "## part a&b : POS tagging for text_a"
   ]
  },
  {
   "cell_type": "code",
   "execution_count": 4,
   "metadata": {},
   "outputs": [],
   "source": [
    "tokens = nltk.word_tokenize(text_a)"
   ]
  },
  {
   "cell_type": "code",
   "execution_count": 5,
   "metadata": {},
   "outputs": [
    {
     "name": "stderr",
     "output_type": "stream",
     "text": [
      "[nltk_data] Downloading package averaged_perceptron_tagger to\n",
      "[nltk_data]     C:\\Users\\user\\AppData\\Roaming\\nltk_data...\n",
      "[nltk_data]   Package averaged_perceptron_tagger is already up-to-\n",
      "[nltk_data]       date!\n"
     ]
    },
    {
     "data": {
      "text/plain": [
       "True"
      ]
     },
     "execution_count": 5,
     "metadata": {},
     "output_type": "execute_result"
    }
   ],
   "source": [
    "nltk.download('averaged_perceptron_tagger')"
   ]
  },
  {
   "cell_type": "code",
   "execution_count": 6,
   "metadata": {},
   "outputs": [],
   "source": [
    "tags = nltk.pos_tag(tokens)"
   ]
  },
  {
   "cell_type": "code",
   "execution_count": 7,
   "metadata": {},
   "outputs": [
    {
     "data": {
      "text/plain": [
       "[('Natural', 'JJ'),\n",
       " ('language', 'NN'),\n",
       " ('processing', 'NN'),\n",
       " ('is', 'VBZ'),\n",
       " ('fun', 'RB'),\n",
       " ('!', '.'),\n",
       " ('This', 'DT'),\n",
       " ('text', 'NN'),\n",
       " ('is', 'VBZ'),\n",
       " ('a', 'DT'),\n",
       " ('sample', 'JJ'),\n",
       " ('text', 'NN'),\n",
       " ('.', '.')]"
      ]
     },
     "execution_count": 7,
     "metadata": {},
     "output_type": "execute_result"
    }
   ],
   "source": [
    "tags"
   ]
  },
  {
   "cell_type": "markdown",
   "metadata": {},
   "source": [
    "## part c&d&e&f : reqular expression chunking and draw it's tree "
   ]
  },
  {
   "cell_type": "code",
   "execution_count": 8,
   "metadata": {},
   "outputs": [],
   "source": [
    "grammar = ('''\n",
    "    NP: {<DT>?<JJ>*<NN>} # NP\n",
    "    ''')"
   ]
  },
  {
   "cell_type": "code",
   "execution_count": 9,
   "metadata": {},
   "outputs": [],
   "source": [
    "parser = nltk.RegexpParser(grammar)"
   ]
  },
  {
   "cell_type": "code",
   "execution_count": 10,
   "metadata": {},
   "outputs": [],
   "source": [
    "tree = parser.parse(tags)"
   ]
  },
  {
   "cell_type": "code",
   "execution_count": 11,
   "metadata": {},
   "outputs": [
    {
     "name": "stdout",
     "output_type": "stream",
     "text": [
      "(S\n",
      "  (NP Natural/JJ language/NN)\n",
      "  (NP processing/NN)\n",
      "  is/VBZ\n",
      "  fun/RB\n",
      "  !/.\n",
      "  (NP This/DT text/NN)\n",
      "  is/VBZ\n",
      "  (NP a/DT sample/JJ text/NN)\n",
      "  ./.)\n",
      "(NP Natural/JJ language/NN)\n",
      "(NP processing/NN)\n",
      "(NP This/DT text/NN)\n",
      "(NP a/DT sample/JJ text/NN)\n"
     ]
    }
   ],
   "source": [
    "for subtree in tree.subtrees():\n",
    "    print(subtree)"
   ]
  },
  {
   "cell_type": "code",
   "execution_count": 12,
   "metadata": {},
   "outputs": [],
   "source": [
    "tree.draw()"
   ]
  },
  {
   "cell_type": "code",
   "execution_count": null,
   "metadata": {},
   "outputs": [],
   "source": []
  },
  {
   "cell_type": "markdown",
   "metadata": {},
   "source": [
    "## part g: two other sample for chunking"
   ]
  },
  {
   "cell_type": "markdown",
   "metadata": {},
   "source": [
    "### example 1 :"
   ]
  },
  {
   "cell_type": "code",
   "execution_count": 13,
   "metadata": {},
   "outputs": [],
   "source": [
    "text = \"hello! my name is Amirreza Seddighin\""
   ]
  },
  {
   "cell_type": "code",
   "execution_count": 14,
   "metadata": {},
   "outputs": [],
   "source": [
    "tags = nltk.pos_tag(nltk.word_tokenize(text))"
   ]
  },
  {
   "cell_type": "code",
   "execution_count": 15,
   "metadata": {},
   "outputs": [
    {
     "data": {
      "text/plain": [
       "[('hello', 'NN'),\n",
       " ('!', '.'),\n",
       " ('my', 'PRP$'),\n",
       " ('name', 'NN'),\n",
       " ('is', 'VBZ'),\n",
       " ('Amirreza', 'NNP'),\n",
       " ('Seddighin', 'NNP')]"
      ]
     },
     "execution_count": 15,
     "metadata": {},
     "output_type": "execute_result"
    }
   ],
   "source": [
    "tags"
   ]
  },
  {
   "cell_type": "code",
   "execution_count": 16,
   "metadata": {},
   "outputs": [],
   "source": [
    "grammar = ('''\n",
    "    NP: {<NNP>*} # NP\n",
    "    ''')"
   ]
  },
  {
   "cell_type": "code",
   "execution_count": 17,
   "metadata": {},
   "outputs": [],
   "source": [
    "parser = nltk.RegexpParser(grammar)"
   ]
  },
  {
   "cell_type": "code",
   "execution_count": 18,
   "metadata": {},
   "outputs": [],
   "source": [
    "tree = parser.parse(tags)"
   ]
  },
  {
   "cell_type": "code",
   "execution_count": 19,
   "metadata": {},
   "outputs": [
    {
     "name": "stdout",
     "output_type": "stream",
     "text": [
      "(S\n",
      "  hello/NN\n",
      "  !/.\n",
      "  my/PRP$\n",
      "  name/NN\n",
      "  is/VBZ\n",
      "  (NP Amirreza/NNP Seddighin/NNP))\n",
      "(NP Amirreza/NNP Seddighin/NNP)\n"
     ]
    }
   ],
   "source": [
    "for subtree in tree.subtrees():\n",
    "    print(subtree)"
   ]
  },
  {
   "cell_type": "code",
   "execution_count": 20,
   "metadata": {},
   "outputs": [],
   "source": [
    "tree.draw()"
   ]
  },
  {
   "cell_type": "markdown",
   "metadata": {},
   "source": [
    "### example 2 :"
   ]
  },
  {
   "cell_type": "code",
   "execution_count": 21,
   "metadata": {},
   "outputs": [],
   "source": [
    "text = \"My teacher is very good\""
   ]
  },
  {
   "cell_type": "code",
   "execution_count": 22,
   "metadata": {},
   "outputs": [],
   "source": [
    "tags = nltk.pos_tag(nltk.word_tokenize(text))"
   ]
  },
  {
   "cell_type": "code",
   "execution_count": 23,
   "metadata": {},
   "outputs": [
    {
     "data": {
      "text/plain": [
       "[('My', 'PRP$'),\n",
       " ('teacher', 'NN'),\n",
       " ('is', 'VBZ'),\n",
       " ('very', 'RB'),\n",
       " ('good', 'JJ')]"
      ]
     },
     "execution_count": 23,
     "metadata": {},
     "output_type": "execute_result"
    }
   ],
   "source": [
    "tags"
   ]
  },
  {
   "cell_type": "code",
   "execution_count": 24,
   "metadata": {},
   "outputs": [],
   "source": [
    "grammar = ('''\n",
    "    NP: {<PRP\\$> <NN>} # NP\n",
    "    ''')"
   ]
  },
  {
   "cell_type": "code",
   "execution_count": 25,
   "metadata": {},
   "outputs": [],
   "source": [
    "parser = nltk.RegexpParser(grammar)"
   ]
  },
  {
   "cell_type": "code",
   "execution_count": 26,
   "metadata": {},
   "outputs": [],
   "source": [
    "tree = parser.parse(tags)"
   ]
  },
  {
   "cell_type": "code",
   "execution_count": 27,
   "metadata": {},
   "outputs": [
    {
     "name": "stdout",
     "output_type": "stream",
     "text": [
      "(S (NP My/PRP$ teacher/NN) is/VBZ very/RB good/JJ)\n",
      "(NP My/PRP$ teacher/NN)\n"
     ]
    }
   ],
   "source": [
    "for subtree in tree.subtrees():\n",
    "    print(subtree)"
   ]
  },
  {
   "cell_type": "code",
   "execution_count": 28,
   "metadata": {},
   "outputs": [],
   "source": [
    "tree.draw()"
   ]
  },
  {
   "cell_type": "code",
   "execution_count": null,
   "metadata": {},
   "outputs": [],
   "source": []
  },
  {
   "cell_type": "markdown",
   "metadata": {},
   "source": [
    "# STEP 3:"
   ]
  },
  {
   "cell_type": "code",
   "execution_count": 29,
   "metadata": {},
   "outputs": [],
   "source": [
    "from nltk.chunk import conlltags2tree, tree2conlltags"
   ]
  },
  {
   "cell_type": "markdown",
   "metadata": {},
   "source": [
    "## part a&b: IOB encoding for text_b"
   ]
  },
  {
   "cell_type": "code",
   "execution_count": 30,
   "metadata": {},
   "outputs": [],
   "source": [
    "tags = nltk.pos_tag(nltk.word_tokenize(text_b))"
   ]
  },
  {
   "cell_type": "code",
   "execution_count": 31,
   "metadata": {},
   "outputs": [
    {
     "data": {
      "text/plain": [
       "[('Jensen', 'NNP'),\n",
       " ('Huang', 'NNP'),\n",
       " (',', ','),\n",
       " ('the', 'DT'),\n",
       " ('CEO', 'NNP'),\n",
       " ('of', 'IN'),\n",
       " ('Nvidia', 'NNP'),\n",
       " (',', ','),\n",
       " ('the', 'DT'),\n",
       " ('nation', 'NN'),\n",
       " ('’', 'NNP'),\n",
       " ('s', 'VBZ'),\n",
       " ('most', 'RBS'),\n",
       " ('valuable', 'JJ'),\n",
       " ('semiconductor', 'NN'),\n",
       " ('company', 'NN'),\n",
       " (',', ','),\n",
       " ('with', 'IN'),\n",
       " ('a', 'DT'),\n",
       " ('stock', 'NN'),\n",
       " ('price', 'NN'),\n",
       " ('of', 'IN'),\n",
       " ('$', '$'),\n",
       " ('645', 'CD'),\n",
       " ('a', 'DT'),\n",
       " ('share', 'NN'),\n",
       " ('and', 'CC'),\n",
       " ('a', 'DT'),\n",
       " ('market', 'NN'),\n",
       " ('cap', 'NN'),\n",
       " ('of', 'IN'),\n",
       " ('$', '$'),\n",
       " ('400', 'CD'),\n",
       " ('billion', 'CD'),\n",
       " (',', ','),\n",
       " ('is', 'VBZ'),\n",
       " ('out', 'RP'),\n",
       " ('to', 'TO'),\n",
       " ('create', 'VB'),\n",
       " ('the', 'DT'),\n",
       " ('metaverse', 'NN'),\n",
       " (',', ','),\n",
       " ('what', 'WP'),\n",
       " ('Huang', 'NNP'),\n",
       " ('describes', 'VBZ'),\n",
       " ('“', 'VB'),\n",
       " ('a', 'DT'),\n",
       " ('virtual', 'JJ'),\n",
       " ('world', 'NN'),\n",
       " ('that', 'WDT'),\n",
       " ('is', 'VBZ'),\n",
       " ('a', 'DT'),\n",
       " ('digital', 'JJ'),\n",
       " ('twin', 'NN'),\n",
       " ('of', 'IN'),\n",
       " ('ours.', 'JJ'),\n",
       " ('”', 'NNP'),\n",
       " ('Huang', 'NNP'),\n",
       " ('credits', 'NNS'),\n",
       " ('author', 'NN'),\n",
       " ('Neal', 'NNP'),\n",
       " ('Stephenson', 'NNP'),\n",
       " ('’', 'NNP'),\n",
       " ('s', 'NN'),\n",
       " ('Snow', 'NNP'),\n",
       " ('Crash', 'NNP'),\n",
       " (',', ','),\n",
       " ('filled', 'VBN'),\n",
       " ('with', 'IN'),\n",
       " ('collectives', 'NNS'),\n",
       " ('of', 'IN'),\n",
       " ('shared', 'VBN'),\n",
       " ('3-D', 'JJ'),\n",
       " ('spaces', 'NNS'),\n",
       " ('and', 'CC'),\n",
       " ('virtually', 'RB'),\n",
       " ('enhanced', 'JJ'),\n",
       " ('physical', 'JJ'),\n",
       " ('spaces', 'NNS'),\n",
       " ('that', 'WDT'),\n",
       " ('are', 'VBP'),\n",
       " ('extensions', 'NNS'),\n",
       " ('of', 'IN'),\n",
       " ('the', 'DT'),\n",
       " ('Internet', 'NNP'),\n",
       " (',', ','),\n",
       " ('for', 'IN'),\n",
       " ('conjuring', 'VBG'),\n",
       " ('the', 'DT'),\n",
       " ('metaverse', 'NN'),\n",
       " ('.', '.'),\n",
       " ('This', 'DT'),\n",
       " ('is', 'VBZ'),\n",
       " ('already', 'RB'),\n",
       " ('playing', 'VBG'),\n",
       " ('out', 'RP'),\n",
       " ('with', 'IN'),\n",
       " ('the', 'DT'),\n",
       " ('massively', 'RB'),\n",
       " ('popular', 'JJ'),\n",
       " ('online', 'JJ'),\n",
       " ('games', 'NNS'),\n",
       " ('like', 'IN'),\n",
       " ('Fortnite', 'NNP'),\n",
       " ('and', 'CC'),\n",
       " ('Minecraft', 'NNP'),\n",
       " (',', ','),\n",
       " ('where', 'WRB'),\n",
       " ('users', 'NNS'),\n",
       " ('create', 'VBP'),\n",
       " ('richly', 'RB'),\n",
       " ('imagined', 'VBN'),\n",
       " ('virtual', 'JJ'),\n",
       " ('worlds', 'NNS'),\n",
       " ('.', '.')]"
      ]
     },
     "execution_count": 31,
     "metadata": {},
     "output_type": "execute_result"
    }
   ],
   "source": [
    "tags"
   ]
  },
  {
   "cell_type": "code",
   "execution_count": 32,
   "metadata": {},
   "outputs": [],
   "source": [
    "grammar = ('''\n",
    "    NP: {<DT>?<JJ>*<NN>} # NP\n",
    "    ''')"
   ]
  },
  {
   "cell_type": "code",
   "execution_count": 33,
   "metadata": {},
   "outputs": [],
   "source": [
    "parser = nltk.RegexpParser(grammar)"
   ]
  },
  {
   "cell_type": "code",
   "execution_count": 34,
   "metadata": {},
   "outputs": [],
   "source": [
    "tree = parser.parse(tags)"
   ]
  },
  {
   "cell_type": "code",
   "execution_count": 35,
   "metadata": {},
   "outputs": [
    {
     "data": {
      "text/plain": [
       "[('Jensen', 'NNP', 'O'),\n",
       " ('Huang', 'NNP', 'O'),\n",
       " (',', ',', 'O'),\n",
       " ('the', 'DT', 'O'),\n",
       " ('CEO', 'NNP', 'O'),\n",
       " ('of', 'IN', 'O'),\n",
       " ('Nvidia', 'NNP', 'O'),\n",
       " (',', ',', 'O'),\n",
       " ('the', 'DT', 'B-NP'),\n",
       " ('nation', 'NN', 'I-NP'),\n",
       " ('’', 'NNP', 'O'),\n",
       " ('s', 'VBZ', 'O'),\n",
       " ('most', 'RBS', 'O'),\n",
       " ('valuable', 'JJ', 'B-NP'),\n",
       " ('semiconductor', 'NN', 'I-NP'),\n",
       " ('company', 'NN', 'B-NP'),\n",
       " (',', ',', 'O'),\n",
       " ('with', 'IN', 'O'),\n",
       " ('a', 'DT', 'B-NP'),\n",
       " ('stock', 'NN', 'I-NP'),\n",
       " ('price', 'NN', 'B-NP'),\n",
       " ('of', 'IN', 'O'),\n",
       " ('$', '$', 'O'),\n",
       " ('645', 'CD', 'O'),\n",
       " ('a', 'DT', 'B-NP'),\n",
       " ('share', 'NN', 'I-NP'),\n",
       " ('and', 'CC', 'O'),\n",
       " ('a', 'DT', 'B-NP'),\n",
       " ('market', 'NN', 'I-NP'),\n",
       " ('cap', 'NN', 'B-NP'),\n",
       " ('of', 'IN', 'O'),\n",
       " ('$', '$', 'O'),\n",
       " ('400', 'CD', 'O'),\n",
       " ('billion', 'CD', 'O'),\n",
       " (',', ',', 'O'),\n",
       " ('is', 'VBZ', 'O'),\n",
       " ('out', 'RP', 'O'),\n",
       " ('to', 'TO', 'O'),\n",
       " ('create', 'VB', 'O'),\n",
       " ('the', 'DT', 'B-NP'),\n",
       " ('metaverse', 'NN', 'I-NP'),\n",
       " (',', ',', 'O'),\n",
       " ('what', 'WP', 'O'),\n",
       " ('Huang', 'NNP', 'O'),\n",
       " ('describes', 'VBZ', 'O'),\n",
       " ('“', 'VB', 'O'),\n",
       " ('a', 'DT', 'B-NP'),\n",
       " ('virtual', 'JJ', 'I-NP'),\n",
       " ('world', 'NN', 'I-NP'),\n",
       " ('that', 'WDT', 'O'),\n",
       " ('is', 'VBZ', 'O'),\n",
       " ('a', 'DT', 'B-NP'),\n",
       " ('digital', 'JJ', 'I-NP'),\n",
       " ('twin', 'NN', 'I-NP'),\n",
       " ('of', 'IN', 'O'),\n",
       " ('ours.', 'JJ', 'O'),\n",
       " ('”', 'NNP', 'O'),\n",
       " ('Huang', 'NNP', 'O'),\n",
       " ('credits', 'NNS', 'O'),\n",
       " ('author', 'NN', 'B-NP'),\n",
       " ('Neal', 'NNP', 'O'),\n",
       " ('Stephenson', 'NNP', 'O'),\n",
       " ('’', 'NNP', 'O'),\n",
       " ('s', 'NN', 'B-NP'),\n",
       " ('Snow', 'NNP', 'O'),\n",
       " ('Crash', 'NNP', 'O'),\n",
       " (',', ',', 'O'),\n",
       " ('filled', 'VBN', 'O'),\n",
       " ('with', 'IN', 'O'),\n",
       " ('collectives', 'NNS', 'O'),\n",
       " ('of', 'IN', 'O'),\n",
       " ('shared', 'VBN', 'O'),\n",
       " ('3-D', 'JJ', 'O'),\n",
       " ('spaces', 'NNS', 'O'),\n",
       " ('and', 'CC', 'O'),\n",
       " ('virtually', 'RB', 'O'),\n",
       " ('enhanced', 'JJ', 'O'),\n",
       " ('physical', 'JJ', 'O'),\n",
       " ('spaces', 'NNS', 'O'),\n",
       " ('that', 'WDT', 'O'),\n",
       " ('are', 'VBP', 'O'),\n",
       " ('extensions', 'NNS', 'O'),\n",
       " ('of', 'IN', 'O'),\n",
       " ('the', 'DT', 'O'),\n",
       " ('Internet', 'NNP', 'O'),\n",
       " (',', ',', 'O'),\n",
       " ('for', 'IN', 'O'),\n",
       " ('conjuring', 'VBG', 'O'),\n",
       " ('the', 'DT', 'B-NP'),\n",
       " ('metaverse', 'NN', 'I-NP'),\n",
       " ('.', '.', 'O'),\n",
       " ('This', 'DT', 'O'),\n",
       " ('is', 'VBZ', 'O'),\n",
       " ('already', 'RB', 'O'),\n",
       " ('playing', 'VBG', 'O'),\n",
       " ('out', 'RP', 'O'),\n",
       " ('with', 'IN', 'O'),\n",
       " ('the', 'DT', 'O'),\n",
       " ('massively', 'RB', 'O'),\n",
       " ('popular', 'JJ', 'O'),\n",
       " ('online', 'JJ', 'O'),\n",
       " ('games', 'NNS', 'O'),\n",
       " ('like', 'IN', 'O'),\n",
       " ('Fortnite', 'NNP', 'O'),\n",
       " ('and', 'CC', 'O'),\n",
       " ('Minecraft', 'NNP', 'O'),\n",
       " (',', ',', 'O'),\n",
       " ('where', 'WRB', 'O'),\n",
       " ('users', 'NNS', 'O'),\n",
       " ('create', 'VBP', 'O'),\n",
       " ('richly', 'RB', 'O'),\n",
       " ('imagined', 'VBN', 'O'),\n",
       " ('virtual', 'JJ', 'O'),\n",
       " ('worlds', 'NNS', 'O'),\n",
       " ('.', '.', 'O')]"
      ]
     },
     "execution_count": 35,
     "metadata": {},
     "output_type": "execute_result"
    }
   ],
   "source": [
    "tree2conlltags(tree)"
   ]
  },
  {
   "cell_type": "code",
   "execution_count": null,
   "metadata": {},
   "outputs": [],
   "source": []
  },
  {
   "cell_type": "markdown",
   "metadata": {},
   "source": [
    "# STEP 4"
   ]
  },
  {
   "cell_type": "code",
   "execution_count": 36,
   "metadata": {},
   "outputs": [],
   "source": [
    "from nltk.tag.stanford import StanfordNERTagger"
   ]
  },
  {
   "cell_type": "code",
   "execution_count": 37,
   "metadata": {},
   "outputs": [],
   "source": [
    "model_path ='./stanford_data/english.all.3class.distsim.crf.ser.gz' \n",
    "jar_path = './stanford_data/stanford-ner-4.2.0.jar'\n",
    "ner_tagger = StanfordNERTagger( model_path,jar_path,encoding=\"utf8\")"
   ]
  },
  {
   "cell_type": "code",
   "execution_count": 38,
   "metadata": {},
   "outputs": [],
   "source": [
    "text_b_tokens = nltk.word_tokenize(text_b)"
   ]
  },
  {
   "cell_type": "code",
   "execution_count": 39,
   "metadata": {},
   "outputs": [
    {
     "data": {
      "text/plain": [
       "[('Jensen', 'PERSON'),\n",
       " ('Huang', 'PERSON'),\n",
       " (',', 'O'),\n",
       " ('the', 'O'),\n",
       " ('CEO', 'O'),\n",
       " ('of', 'O'),\n",
       " ('Nvidia', 'ORGANIZATION'),\n",
       " (',', 'O'),\n",
       " ('the', 'O'),\n",
       " ('nation', 'O'),\n",
       " ('’', 'O'),\n",
       " ('s', 'O'),\n",
       " ('most', 'O'),\n",
       " ('valuable', 'O'),\n",
       " ('semiconductor', 'O'),\n",
       " ('company', 'O'),\n",
       " (',', 'O'),\n",
       " ('with', 'O'),\n",
       " ('a', 'O'),\n",
       " ('stock', 'O'),\n",
       " ('price', 'O'),\n",
       " ('of', 'O'),\n",
       " ('$', 'O'),\n",
       " ('645', 'O'),\n",
       " ('a', 'O'),\n",
       " ('share', 'O'),\n",
       " ('and', 'O'),\n",
       " ('a', 'O'),\n",
       " ('market', 'O'),\n",
       " ('cap', 'O'),\n",
       " ('of', 'O'),\n",
       " ('$', 'O'),\n",
       " ('400', 'O'),\n",
       " ('billion', 'O'),\n",
       " (',', 'O'),\n",
       " ('is', 'O'),\n",
       " ('out', 'O'),\n",
       " ('to', 'O'),\n",
       " ('create', 'O'),\n",
       " ('the', 'O'),\n",
       " ('metaverse', 'O'),\n",
       " (',', 'O'),\n",
       " ('what', 'O'),\n",
       " ('Huang', 'PERSON'),\n",
       " ('describes', 'O'),\n",
       " ('“', 'O'),\n",
       " ('a', 'O'),\n",
       " ('virtual', 'O'),\n",
       " ('world', 'O'),\n",
       " ('that', 'O'),\n",
       " ('is', 'O'),\n",
       " ('a', 'O'),\n",
       " ('digital', 'O'),\n",
       " ('twin', 'O'),\n",
       " ('of', 'O'),\n",
       " ('ours.', 'O'),\n",
       " ('”', 'O'),\n",
       " ('Huang', 'PERSON'),\n",
       " ('credits', 'O'),\n",
       " ('author', 'O'),\n",
       " ('Neal', 'PERSON'),\n",
       " ('Stephenson', 'PERSON'),\n",
       " ('’', 'O'),\n",
       " ('s', 'O'),\n",
       " ('Snow', 'O'),\n",
       " ('Crash', 'O'),\n",
       " (',', 'O'),\n",
       " ('filled', 'O'),\n",
       " ('with', 'O'),\n",
       " ('collectives', 'O'),\n",
       " ('of', 'O'),\n",
       " ('shared', 'O'),\n",
       " ('3-D', 'O'),\n",
       " ('spaces', 'O'),\n",
       " ('and', 'O'),\n",
       " ('virtually', 'O'),\n",
       " ('enhanced', 'O'),\n",
       " ('physical', 'O'),\n",
       " ('spaces', 'O'),\n",
       " ('that', 'O'),\n",
       " ('are', 'O'),\n",
       " ('extensions', 'O'),\n",
       " ('of', 'O'),\n",
       " ('the', 'O'),\n",
       " ('Internet', 'O'),\n",
       " (',', 'O'),\n",
       " ('for', 'O'),\n",
       " ('conjuring', 'O'),\n",
       " ('the', 'O'),\n",
       " ('metaverse', 'O'),\n",
       " ('.', 'O'),\n",
       " ('This', 'O'),\n",
       " ('is', 'O'),\n",
       " ('already', 'O'),\n",
       " ('playing', 'O'),\n",
       " ('out', 'O'),\n",
       " ('with', 'O'),\n",
       " ('the', 'O'),\n",
       " ('massively', 'O'),\n",
       " ('popular', 'O'),\n",
       " ('online', 'O'),\n",
       " ('games', 'O'),\n",
       " ('like', 'O'),\n",
       " ('Fortnite', 'O'),\n",
       " ('and', 'O'),\n",
       " ('Minecraft', 'O'),\n",
       " (',', 'O'),\n",
       " ('where', 'O'),\n",
       " ('users', 'O'),\n",
       " ('create', 'O'),\n",
       " ('richly', 'O'),\n",
       " ('imagined', 'O'),\n",
       " ('virtual', 'O'),\n",
       " ('worlds', 'O'),\n",
       " ('.', 'O')]"
      ]
     },
     "execution_count": 39,
     "metadata": {},
     "output_type": "execute_result"
    }
   ],
   "source": [
    "tags = ner_tagger.tag(text_b_tokens)\n",
    "tags"
   ]
  },
  {
   "cell_type": "code",
   "execution_count": 40,
   "metadata": {},
   "outputs": [
    {
     "data": {
      "text/plain": [
       "['Jensen', 'Huang', 'Huang', 'Huang', 'Neal', 'Stephenson']"
      ]
     },
     "execution_count": 40,
     "metadata": {},
     "output_type": "execute_result"
    }
   ],
   "source": [
    "# person tags\n",
    "[tag[0] for tag in tags if tag[1]==\"PERSON\"]"
   ]
  },
  {
   "cell_type": "code",
   "execution_count": 41,
   "metadata": {},
   "outputs": [
    {
     "data": {
      "text/plain": [
       "['Nvidia']"
      ]
     },
     "execution_count": 41,
     "metadata": {},
     "output_type": "execute_result"
    }
   ],
   "source": [
    "# organization tags\n",
    "[tag[0] for tag in tags if tag[1]==\"ORGANIZATION\"]"
   ]
  },
  {
   "cell_type": "code",
   "execution_count": null,
   "metadata": {},
   "outputs": [],
   "source": []
  },
  {
   "cell_type": "markdown",
   "metadata": {},
   "source": [
    "# STEP 5"
   ]
  },
  {
   "cell_type": "markdown",
   "metadata": {},
   "source": [
    "## part a and b"
   ]
  },
  {
   "cell_type": "code",
   "execution_count": 42,
   "metadata": {},
   "outputs": [],
   "source": [
    "import spacy"
   ]
  },
  {
   "cell_type": "code",
   "execution_count": 44,
   "metadata": {},
   "outputs": [],
   "source": [
    "nlp = spacy.load('en_core_web_sm')"
   ]
  },
  {
   "cell_type": "code",
   "execution_count": 45,
   "metadata": {},
   "outputs": [],
   "source": [
    "doc = nlp(text_b)"
   ]
  },
  {
   "cell_type": "code",
   "execution_count": 100,
   "metadata": {},
   "outputs": [
    {
     "data": {
      "text/plain": [
       "['Jensen Huang',\n",
       " 'the CEO',\n",
       " 'Nvidia',\n",
       " 'the nation’s most valuable semiconductor company',\n",
       " 'a stock price',\n",
       " 'a market cap',\n",
       " 'the metaverse',\n",
       " 'what',\n",
       " 'Huang',\n",
       " '“a virtual world',\n",
       " 'a digital twin',\n",
       " 'ours',\n",
       " 'Huang',\n",
       " 'author Neal Stephenson’s Snow Crash',\n",
       " 'collectives',\n",
       " 'shared 3-D spaces',\n",
       " 'virtually enhanced physical spaces',\n",
       " 'extensions',\n",
       " 'the Internet',\n",
       " 'the metaverse',\n",
       " 'the massively popular online games',\n",
       " 'Fortnite',\n",
       " 'Minecraft',\n",
       " 'users',\n",
       " 'virtual worlds']"
      ]
     },
     "execution_count": 100,
     "metadata": {},
     "output_type": "execute_result"
    }
   ],
   "source": [
    "[item.text for item in doc.noun_chunks]"
   ]
  },
  {
   "cell_type": "markdown",
   "metadata": {},
   "source": [
    "## part c: PERSON and ORG and MONEY and CARDINAL entities"
   ]
  },
  {
   "cell_type": "code",
   "execution_count": 105,
   "metadata": {},
   "outputs": [
    {
     "data": {
      "text/plain": [
       "['Jensen Huang',\n",
       " 'Nvidia',\n",
       " '645',\n",
       " '$400 billion',\n",
       " 'Huang',\n",
       " 'Huang',\n",
       " 'Neal Stephenson’s',\n",
       " 'Snow Crash',\n",
       " '3']"
      ]
     },
     "execution_count": 105,
     "metadata": {},
     "output_type": "execute_result"
    }
   ],
   "source": [
    "[item.text for item in doc.ents]"
   ]
  },
  {
   "cell_type": "code",
   "execution_count": 106,
   "metadata": {},
   "outputs": [
    {
     "data": {
      "text/plain": [
       "['Jensen Huang', 'Huang', 'Huang', 'Neal Stephenson’s', 'Snow Crash']"
      ]
     },
     "execution_count": 106,
     "metadata": {},
     "output_type": "execute_result"
    }
   ],
   "source": [
    "[item.text for item in doc.ents if item.label_==\"PERSON\"]"
   ]
  },
  {
   "cell_type": "code",
   "execution_count": 107,
   "metadata": {},
   "outputs": [
    {
     "data": {
      "text/plain": [
       "['Nvidia']"
      ]
     },
     "execution_count": 107,
     "metadata": {},
     "output_type": "execute_result"
    }
   ],
   "source": [
    "[item.text for item in doc.ents if item.label_==\"ORG\"]"
   ]
  },
  {
   "cell_type": "code",
   "execution_count": 108,
   "metadata": {},
   "outputs": [
    {
     "data": {
      "text/plain": [
       "['645', '$400 billion']"
      ]
     },
     "execution_count": 108,
     "metadata": {},
     "output_type": "execute_result"
    }
   ],
   "source": [
    "[item.text for item in doc.ents if item.label_==\"MONEY\"]"
   ]
  },
  {
   "cell_type": "code",
   "execution_count": 109,
   "metadata": {},
   "outputs": [
    {
     "data": {
      "text/plain": [
       "['3']"
      ]
     },
     "execution_count": 109,
     "metadata": {},
     "output_type": "execute_result"
    }
   ],
   "source": [
    "[item.text for item in doc.ents if item.label_==\"CARDINAL\"]"
   ]
  },
  {
   "cell_type": "code",
   "execution_count": null,
   "metadata": {},
   "outputs": [],
   "source": []
  },
  {
   "cell_type": "code",
   "execution_count": null,
   "metadata": {},
   "outputs": [],
   "source": []
  },
  {
   "cell_type": "code",
   "execution_count": null,
   "metadata": {},
   "outputs": [],
   "source": []
  }
 ],
 "metadata": {
  "kernelspec": {
   "display_name": "Python 3",
   "language": "python",
   "name": "python3"
  },
  "language_info": {
   "codemirror_mode": {
    "name": "ipython",
    "version": 3
   },
   "file_extension": ".py",
   "mimetype": "text/x-python",
   "name": "python",
   "nbconvert_exporter": "python",
   "pygments_lexer": "ipython3",
   "version": "3.6.4"
  }
 },
 "nbformat": 4,
 "nbformat_minor": 4
}
