{
 "cells": [
  {
   "cell_type": "code",
   "execution_count": 3,
   "metadata": {},
   "outputs": [],
   "source": [
    "import nltk"
   ]
  },
  {
   "cell_type": "markdown",
   "metadata": {},
   "source": [
    "# part 2 : draw parse trees"
   ]
  },
  {
   "cell_type": "code",
   "execution_count": 4,
   "metadata": {},
   "outputs": [],
   "source": [
    "def show_trees(grammar,sentence , parser_type=nltk.ChartParser):\n",
    "    tokenizer = nltk.tokenize.RegexpTokenizer('\\w+')\n",
    "    tokens =  tokenizer.tokenize(sentence)\n",
    "    parser = parser_type(grammar)\n",
    "    for tree in parser.parse(tokens):\n",
    "        tree.draw() # show in a new window\n",
    "        print(tree)\n",
    "        \n"
   ]
  },
  {
   "cell_type": "markdown",
   "metadata": {},
   "source": [
    "# part 3 : grammar 1"
   ]
  },
  {
   "cell_type": "code",
   "execution_count": 5,
   "metadata": {},
   "outputs": [
    {
     "name": "stdout",
     "output_type": "stream",
     "text": [
      "(S\n",
      "  (NP (DT the) (NN man))\n",
      "  (VP\n",
      "    (VP (VT saw) (NP (DT the) (NN dog)))\n",
      "    (PP (IN with) (NP (DT the) (NN telescope)))))\n",
      "(S\n",
      "  (NP (DT the) (NN man))\n",
      "  (VP\n",
      "    (VT saw)\n",
      "    (NP\n",
      "      (NP (DT the) (NN dog))\n",
      "      (PP (IN with) (NP (DT the) (NN telescope))))))\n"
     ]
    }
   ],
   "source": [
    "grammar = nltk.data.load(\"Grammar1.cfg\")\n",
    "show_trees(grammar,\"the man saw the dog with the telescope\")"
   ]
  },
  {
   "cell_type": "markdown",
   "metadata": {},
   "source": [
    "# part 4"
   ]
  },
  {
   "cell_type": "markdown",
   "metadata": {},
   "source": [
    "## for grammar 2 "
   ]
  },
  {
   "cell_type": "code",
   "execution_count": 6,
   "metadata": {},
   "outputs": [
    {
     "name": "stdout",
     "output_type": "stream",
     "text": [
      "(S\n",
      "  (NP he)\n",
      "  (VP\n",
      "    (VP (VB drove) (PP (IN down) (NP (DT the) (NN street))))\n",
      "    (PP (IN in) (NP (DT the) (NN car)))))\n",
      "(S\n",
      "  (NP he)\n",
      "  (VP\n",
      "    (VB drove)\n",
      "    (PP\n",
      "      (IN down)\n",
      "      (NP\n",
      "        (NP (DT the) (NN street))\n",
      "        (PP (IN in) (NP (DT the) (NN car)))))))\n"
     ]
    }
   ],
   "source": [
    "grammar = nltk.data.load(\"Grammar2.cfg\")\n",
    "show_trees(grammar,\"he drove down the street in the car\")"
   ]
  },
  {
   "cell_type": "markdown",
   "metadata": {},
   "source": [
    "## for grammar 3"
   ]
  },
  {
   "cell_type": "code",
   "execution_count": 7,
   "metadata": {},
   "outputs": [
    {
     "name": "stdout",
     "output_type": "stream",
     "text": [
      "(S\n",
      "  (VP\n",
      "    (VP (V saw) (S (NP her) (VP (Vi duck))))\n",
      "    (PP (IN with) (NP (NN the) (NN telescope)))))\n",
      "(S\n",
      "  (VP\n",
      "    (V saw)\n",
      "    (S\n",
      "      (NP her)\n",
      "      (VP (VP (Vi duck)) (PP (IN with) (NP (NN the) (NN telescope)))))))\n"
     ]
    }
   ],
   "source": [
    "grammar = nltk.data.load(\"Grammar3.cfg\")\n",
    "show_trees(grammar,\"saw her duck with the telescope\")"
   ]
  },
  {
   "cell_type": "markdown",
   "metadata": {},
   "source": [
    "# for grammar 4"
   ]
  },
  {
   "cell_type": "code",
   "execution_count": 8,
   "metadata": {},
   "outputs": [
    {
     "name": "stdout",
     "output_type": "stream",
     "text": [
      "(S (NP (D the) (N (JJ fast) (N (NN car)))) (N (NN mechanic)))\n"
     ]
    }
   ],
   "source": [
    "grammar = nltk.data.load(\"Grammar4.cfg\")\n",
    "show_trees(grammar,\"the fast car mechanic\")"
   ]
  },
  {
   "cell_type": "markdown",
   "metadata": {},
   "source": [
    "# part 5"
   ]
  },
  {
   "cell_type": "code",
   "execution_count": 9,
   "metadata": {},
   "outputs": [
    {
     "name": "stdout",
     "output_type": "stream",
     "text": [
      "(S\n",
      "  (NP i)\n",
      "  (VP\n",
      "    (VP (V shot) (NP (Det an) (N elephant)))\n",
      "    (PP (P in) (NP (Det my) (N pajamas)))))\n",
      "(S\n",
      "  (NP i)\n",
      "  (VP\n",
      "    (V shot)\n",
      "    (NP (Det an) (N elephant) (PP (P in) (NP (Det my) (N pajamas))))))\n"
     ]
    }
   ],
   "source": [
    "grammar = nltk.CFG.fromstring(\"\"\"\n",
    "S -> NP VP\n",
    "PP -> P NP\n",
    "NP -> Det N | Det N PP | 'i'\n",
    "VP -> V NP | VP PP\n",
    "Det -> 'an' | 'my'\n",
    "N -> 'elephant' | 'pajamas'\n",
    "V -> 'shot'\n",
    "P -> 'in'\n",
    "\"\"\")\n",
    "show_trees(grammar,\"i shot an elephant in my pajamas\")"
   ]
  },
  {
   "cell_type": "markdown",
   "metadata": {},
   "source": [
    "# part 6"
   ]
  },
  {
   "cell_type": "code",
   "execution_count": 10,
   "metadata": {},
   "outputs": [
    {
     "name": "stdout",
     "output_type": "stream",
     "text": [
      "(S\n",
      "  (NP (Det the) (N dog))\n",
      "  (VP\n",
      "    (V saw)\n",
      "    (NP (Det a) (N man) (PP (P in) (NP (Det the) (N park))))))\n",
      "(S\n",
      "  (NP (Det the) (N dog))\n",
      "  (VP\n",
      "    (V saw)\n",
      "    (NP (Det a) (N man))\n",
      "    (PP (P in) (NP (Det the) (N park)))))\n"
     ]
    }
   ],
   "source": [
    "grammar = nltk.CFG.fromstring(\"\"\"\n",
    "S -> NP VP\n",
    "VP -> V NP | V NP PP\n",
    "PP -> P NP\n",
    "NP -> Det N | Det N PP\n",
    "Det -> \"a\" | \"the\"\n",
    "N -> \"man\" | \"dog\" | \"park\"\n",
    "P -> \"in\"\n",
    "V -> \"saw\"\n",
    "\"\"\")\n",
    "show_trees(grammar,\"the dog saw a man in the park\" , parser_type=nltk.parse.RecursiveDescentParser)"
   ]
  },
  {
   "cell_type": "markdown",
   "metadata": {},
   "source": [
    "# part 7"
   ]
  },
  {
   "cell_type": "code",
   "execution_count": 11,
   "metadata": {},
   "outputs": [
    {
     "name": "stdout",
     "output_type": "stream",
     "text": [
      "(S (NP Mary) (VP (V saw) (NP (Det a) (N dog))))\n"
     ]
    }
   ],
   "source": [
    "grammar = nltk.CFG.fromstring(\"\"\"\n",
    "S -> NP VP\n",
    "VP -> V NP\n",
    "V -> \"saw\"\n",
    "NP -> \"Mary\" | Det N\n",
    "Det -> \"a\"\n",
    "N -> \"dog\"\n",
    "\"\"\")\n",
    "show_trees(grammar,\"Mary saw a dog\" , parser_type=nltk.parse.ShiftReduceParser)"
   ]
  },
  {
   "cell_type": "markdown",
   "metadata": {},
   "source": [
    "# part 9"
   ]
  },
  {
   "cell_type": "markdown",
   "metadata": {},
   "source": [
    "## with InsideChartParser"
   ]
  },
  {
   "cell_type": "code",
   "execution_count": 12,
   "metadata": {},
   "outputs": [
    {
     "name": "stdout",
     "output_type": "stream",
     "text": [
      "(S\n",
      "  (NP (Name Jack))\n",
      "  (VP\n",
      "    (V saw)\n",
      "    (NP\n",
      "      (NP (Name Bob))\n",
      "      (PP (P with) (NP (Det my) (N cookie)))))) (p=6.31607e-06)\n",
      "(S\n",
      "  (NP (Name Jack))\n",
      "  (VP\n",
      "    (VP (V saw) (NP (Name Bob)))\n",
      "    (PP (P with) (NP (Det my) (N cookie))))) (p=2.03744e-07)\n"
     ]
    }
   ],
   "source": [
    "show_trees(nltk.grammar.toy_pcfg2,\"Jack saw Bob with my cookie\", parser_type=nltk.parse.pchart.InsideChartParser)"
   ]
  },
  {
   "cell_type": "markdown",
   "metadata": {},
   "source": [
    "## with RandomChartParser"
   ]
  },
  {
   "cell_type": "code",
   "execution_count": 13,
   "metadata": {},
   "outputs": [
    {
     "name": "stdout",
     "output_type": "stream",
     "text": [
      "(S\n",
      "  (NP (Name Jack))\n",
      "  (VP\n",
      "    (V saw)\n",
      "    (NP\n",
      "      (NP (Name Bob))\n",
      "      (PP (P with) (NP (Det my) (N cookie)))))) (p=6.31607e-06)\n",
      "(S\n",
      "  (NP (Name Jack))\n",
      "  (VP\n",
      "    (VP (V saw) (NP (Name Bob)))\n",
      "    (PP (P with) (NP (Det my) (N cookie))))) (p=2.03744e-07)\n"
     ]
    }
   ],
   "source": [
    "show_trees(nltk.grammar.toy_pcfg2,\"Jack saw Bob with my cookie\", parser_type=nltk.parse.pchart.RandomChartParser)"
   ]
  },
  {
   "cell_type": "markdown",
   "metadata": {},
   "source": [
    "# with UnsortedChartParser"
   ]
  },
  {
   "cell_type": "code",
   "execution_count": 14,
   "metadata": {},
   "outputs": [
    {
     "name": "stdout",
     "output_type": "stream",
     "text": [
      "(S\n",
      "  (NP (Name Jack))\n",
      "  (VP\n",
      "    (V saw)\n",
      "    (NP\n",
      "      (NP (Name Bob))\n",
      "      (PP (P with) (NP (Det my) (N cookie)))))) (p=6.31607e-06)\n",
      "(S\n",
      "  (NP (Name Jack))\n",
      "  (VP\n",
      "    (VP (V saw) (NP (Name Bob)))\n",
      "    (PP (P with) (NP (Det my) (N cookie))))) (p=2.03744e-07)\n"
     ]
    }
   ],
   "source": [
    "show_trees(nltk.grammar.toy_pcfg2,\"Jack saw Bob with my cookie\", parser_type=nltk.parse.pchart.UnsortedChartParser)"
   ]
  },
  {
   "cell_type": "markdown",
   "metadata": {},
   "source": [
    "# part 10"
   ]
  },
  {
   "cell_type": "code",
   "execution_count": 15,
   "metadata": {},
   "outputs": [
    {
     "name": "stdout",
     "output_type": "stream",
     "text": [
      "(S (NP (DT the) (NN dog)) (VP (Vi sleeps))) (p=0.12)\n"
     ]
    }
   ],
   "source": [
    "grammar = nltk.PCFG.fromstring(\"\"\"\n",
    "S -> NP VP [1.0]\n",
    "VP -> Vi [0.3] | Vt NP [0.5] | VP PP [0.2]\n",
    "NP -> DT NN [0.8] | NP PP [0.2]\n",
    "PP -> IN NP [1.0]\n",
    "Vi -> \"sleeps\" [1.0]\n",
    "Vt -> \"saw\" [1.0]\n",
    "NN -> \"man\" [0.1] | \"woman\" [0.1] | \"telescope\" [0.3] | \"dog\" [0.5]\n",
    "DT -> \"the\" [1.0]\n",
    "IN -> \"with\" [0.6] | \"in\" [0.4]\n",
    "\"\"\")\n",
    "\n",
    "\n",
    "\n",
    "sentence = 'the dog sleeps'\n",
    "\n",
    "\n",
    "show_trees(grammar,\"the dog sleeps\",parser_type=nltk.parse.ViterbiParser)\n"
   ]
  },
  {
   "cell_type": "code",
   "execution_count": null,
   "metadata": {},
   "outputs": [],
   "source": []
  },
  {
   "cell_type": "code",
   "execution_count": null,
   "metadata": {},
   "outputs": [],
   "source": []
  },
  {
   "cell_type": "code",
   "execution_count": null,
   "metadata": {},
   "outputs": [],
   "source": []
  }
 ],
 "metadata": {
  "kernelspec": {
   "display_name": "Python 3",
   "language": "python",
   "name": "python3"
  },
  "language_info": {
   "codemirror_mode": {
    "name": "ipython",
    "version": 3
   },
   "file_extension": ".py",
   "mimetype": "text/x-python",
   "name": "python",
   "nbconvert_exporter": "python",
   "pygments_lexer": "ipython3",
   "version": "3.6.4"
  }
 },
 "nbformat": 4,
 "nbformat_minor": 4
}
